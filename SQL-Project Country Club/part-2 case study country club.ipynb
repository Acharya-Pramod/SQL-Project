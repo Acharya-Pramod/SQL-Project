{
 "cells": [
  {
   "cell_type": "markdown",
   "id": "c11b9304",
   "metadata": {},
   "source": [
    "Case Study - Country Club Questions from 10-13"
   ]
  },
  {
   "cell_type": "code",
   "execution_count": 26,
   "id": "2fc6bd2a",
   "metadata": {},
   "outputs": [
    {
     "name": "stdout",
     "output_type": "stream",
     "text": [
      "2.6.0\n",
      "2. Query all tasks\n",
      "(0, 'Tennis Court 1', 5, 25, 10000, 200)\n",
      "(1, 'Tennis Court 2', 5, 25, 8000, 200)\n",
      "(2, 'Badminton Court', 0, 15.5, 4000, 50)\n",
      "(3, 'Table Tennis', 0, 5, 320, 10)\n",
      "(4, 'Massage Room 1', 9.9, 80, 4000, 3000)\n",
      "(5, 'Massage Room 2', 9.9, 80, 4000, 3000)\n",
      "(6, 'Squash Court', 3.5, 17.5, 5000, 80)\n",
      "(7, 'Snooker Table', 0, 5, 450, 15)\n",
      "(8, 'Pool Table', 0, 5, 400, 15)\n"
     ]
    }
   ],
   "source": [
    "import sqlite3\n",
    "from sqlite3 import Error\n",
    "\n",
    " \n",
    "def create_connection(db_file):\n",
    "    \"\"\" create a database connection to the SQLite database\n",
    "        specified by the db_file\n",
    "    :param db_file: database file\n",
    "    :return: Connection object or None\n",
    "    \"\"\"\n",
    "    conn = None\n",
    "    try:\n",
    "        conn = sqlite3.connect(db_file)\n",
    "        print(sqlite3.version)\n",
    "    except Error as e:\n",
    "        print(e)\n",
    " \n",
    "    return conn\n",
    "\n",
    " \n",
    "def select_all_tasks(conn):\n",
    "    \"\"\"\n",
    "    Query all rows in the tasks table\n",
    "    :param conn: the Connection object\n",
    "    :return:\n",
    "    \"\"\"\n",
    "    cur = conn.cursor()\n",
    "    \n",
    "    query1 = \"\"\"\n",
    "        SELECT *\n",
    "        FROM FACILITIES\n",
    "        \"\"\"\n",
    "    cur.execute(query1)\n",
    " \n",
    "    rows = cur.fetchall()\n",
    " \n",
    "    for row in rows:\n",
    "        print(row)\n",
    "\n",
    "\n",
    "def main():\n",
    "    database = \"sqlite_db_pythonsqlite.db\"\n",
    " \n",
    "    # create a database connection\n",
    "    conn = create_connection(database)\n",
    "    with conn: \n",
    "        print(\"2. Query all tasks\")\n",
    "        select_all_tasks(conn)\n",
    " \n",
    " \n",
    "if __name__ == '__main__':\n",
    "    main()"
   ]
  },
  {
   "cell_type": "code",
   "execution_count": null,
   "id": "1e6838a2",
   "metadata": {},
   "outputs": [],
   "source": []
  },
  {
   "cell_type": "markdown",
   "id": "08ccfacd",
   "metadata": {},
   "source": [
    "Q10: Produce a list of facilities with a total revenue less than 1000. The output of facility name and total revenue, sorted by revenue. Remember that there's a different cost for guests and members! */"
   ]
  },
  {
   "cell_type": "code",
   "execution_count": null,
   "id": "df4c9b8d",
   "metadata": {},
   "outputs": [],
   "source": []
  },
  {
   "cell_type": "code",
   "execution_count": 27,
   "id": "f3c2b782",
   "metadata": {},
   "outputs": [
    {
     "name": "stdout",
     "output_type": "stream",
     "text": [
      "('Table Tennis', 180)\n",
      "('Snooker Table', 240)\n",
      "('Pool Table', 270)\n"
     ]
    }
   ],
   "source": [
    "import sqlite3\n",
    "\n",
    "# Connect to the database\n",
    "conn = sqlite3.connect('sqlite_db_pythonsqlite.db')\n",
    "\n",
    "# Create a cursor object\n",
    "cursor = conn.cursor()\n",
    "\n",
    "# Define and execute the SQL query\n",
    "query = \"\"\"\n",
    "    SELECT \n",
    "        f.name AS facility_name,\n",
    "        SUM(\n",
    "            CASE \n",
    "                WHEN b.memid = 0 THEN f.guestcost * b.slots\n",
    "                ELSE f.membercost * b.slots\n",
    "            END\n",
    "        ) AS total_revenue\n",
    "    FROM Bookings AS b\n",
    "    JOIN Facilities AS f ON b.facid = f.facid\n",
    "    GROUP BY f.name\n",
    "    HAVING total_revenue < 1000\n",
    "    ORDER BY total_revenue;\n",
    "\"\"\"\n",
    "\n",
    "cursor.execute(query)\n",
    "\n",
    "# Fetch the results\n",
    "results = cursor.fetchall()\n",
    "\n",
    "# Print the results\n",
    "for row in results:\n",
    "    print(row)\n",
    "\n",
    "# Close the cursor and connection\n",
    "cursor.close()\n",
    "conn.close()\n"
   ]
  },
  {
   "cell_type": "markdown",
   "id": "3a632915",
   "metadata": {},
   "source": [
    "Q11: Produce a report of members and who recommended them in alphabetic surname,firstname order"
   ]
  },
  {
   "cell_type": "code",
   "execution_count": 28,
   "id": "14cc8bc3",
   "metadata": {},
   "outputs": [
    {
     "name": "stdout",
     "output_type": "stream",
     "text": [
      "('Bader, Florence', 'Stibbons, Ponder')\n",
      "('Baker, Anne', 'Stibbons, Ponder')\n",
      "('Baker, Timothy', 'Farrell, Jemima')\n",
      "('Boothe, Tim', 'Rownam, Tim')\n",
      "('Butters, Gerald', 'Smith, Darren')\n",
      "('Coplin, Joan', 'Baker, Timothy')\n",
      "('Crumpet, Erica', 'Smith, Tracy')\n",
      "('Dare, Nancy', 'Joplette, Janice')\n",
      "('Farrell, David', None)\n",
      "('Farrell, Jemima', None)\n",
      "('GUEST, GUEST', None)\n",
      "('Genting, Matthew', 'Butters, Gerald')\n",
      "('Hunt, John', 'Purview, Millicent')\n",
      "('Jones, David', 'Joplette, Janice')\n",
      "('Jones, Douglas', 'Jones, David')\n",
      "('Joplette, Janice', 'Smith, Darren')\n",
      "('Mackenzie, Anna', 'Smith, Darren')\n",
      "('Owen, Charles', 'Smith, Darren')\n",
      "('Pinker, David', 'Farrell, Jemima')\n",
      "('Purview, Millicent', 'Smith, Tracy')\n",
      "('Rownam, Tim', None)\n",
      "('Rumney, Henrietta', 'Genting, Matthew')\n",
      "('Sarwin, Ramnaresh', 'Bader, Florence')\n",
      "('Smith, Darren', None)\n",
      "('Smith, Darren', None)\n",
      "('Smith, Jack', 'Smith, Darren')\n",
      "('Smith, Tracy', None)\n",
      "('Stibbons, Ponder', 'Tracy, Burton')\n",
      "('Tracy, Burton', None)\n",
      "('Tupperware, Hyacinth', None)\n",
      "('Worthington-Smyth, Henry', 'Smith, Tracy')\n"
     ]
    }
   ],
   "source": [
    "import sqlite3\n",
    "\n",
    "# Connect to the database\n",
    "conn = sqlite3.connect('sqlite_db_pythonsqlite.db')\n",
    "\n",
    "# Create a cursor object\n",
    "cursor = conn.cursor()\n",
    "\n",
    "# Define and execute the SQL query\n",
    "query = \"\"\"\n",
    "    SELECT\n",
    "        m1.surname || ', ' || m1.firstname AS member_name,\n",
    "        m2.surname || ', ' || m2.firstname AS recommended_by\n",
    "    FROM Members m1\n",
    "    LEFT JOIN Members m2 ON m1.recommendedby = m2.memid\n",
    "    ORDER BY m1.surname, m1.firstname;\n",
    "\"\"\"\n",
    "\n",
    "cursor.execute(query)\n",
    "\n",
    "# Fetch the results\n",
    "results = cursor.fetchall()\n",
    "\n",
    "# Print the results\n",
    "for row in results:\n",
    "    print(row)\n",
    "\n",
    "# Close the cursor and connection\n",
    "cursor.close()\n",
    "conn.close()\n"
   ]
  },
  {
   "cell_type": "markdown",
   "id": "029d513a",
   "metadata": {},
   "source": [
    "Q12: Find the facilities with their usage by member, but not guests"
   ]
  },
  {
   "cell_type": "code",
   "execution_count": 29,
   "id": "e9a20f75",
   "metadata": {},
   "outputs": [
    {
     "name": "stdout",
     "output_type": "stream",
     "text": [
      "('Badminton Court', 344)\n",
      "('Massage Room 1', 421)\n",
      "('Massage Room 2', 27)\n",
      "('Pool Table', 783)\n",
      "('Snooker Table', 421)\n",
      "('Squash Court', 195)\n",
      "('Table Tennis', 385)\n",
      "('Tennis Court 1', 308)\n",
      "('Tennis Court 2', 276)\n"
     ]
    }
   ],
   "source": [
    "import sqlite3\n",
    "\n",
    "# Connect to the database\n",
    "conn = sqlite3.connect('sqlite_db_pythonsqlite.db')\n",
    "\n",
    "# Create a cursor object\n",
    "cursor = conn.cursor()\n",
    "\n",
    "# Define and execute the SQL query\n",
    "query = \"\"\"\n",
    "    SELECT \n",
    "        f.name AS facility_name,\n",
    "        COUNT(b.bookid) AS usage_count\n",
    "    FROM Bookings b\n",
    "    JOIN Facilities f ON b.facid = f.facid\n",
    "    JOIN Members m ON b.memid = m.memid\n",
    "    WHERE m.memid <> 0\n",
    "    GROUP BY f.name;\n",
    "\"\"\"\n",
    "\n",
    "cursor.execute(query)\n",
    "\n",
    "# Fetch the results\n",
    "results = cursor.fetchall()\n",
    "\n",
    "# Print the results\n",
    "for row in results:\n",
    "    print(row)\n",
    "\n",
    "# Close the cursor and connection\n",
    "cursor.close()\n"
   ]
  },
  {
   "cell_type": "markdown",
   "id": "25ee670a",
   "metadata": {},
   "source": [
    "Q13: Find the facilities usage by month, but not guests;"
   ]
  },
  {
   "cell_type": "code",
   "execution_count": 30,
   "id": "b1b9170c",
   "metadata": {},
   "outputs": [
    {
     "name": "stdout",
     "output_type": "stream",
     "text": [
      "('2012-07', 'Badminton Court', 51)\n",
      "('2012-07', 'Massage Room 1', 77)\n",
      "('2012-07', 'Massage Room 2', 4)\n",
      "('2012-07', 'Pool Table', 103)\n",
      "('2012-07', 'Snooker Table', 68)\n",
      "('2012-07', 'Squash Court', 23)\n",
      "('2012-07', 'Table Tennis', 48)\n",
      "('2012-07', 'Tennis Court 1', 65)\n",
      "('2012-07', 'Tennis Court 2', 41)\n",
      "('2012-08', 'Badminton Court', 132)\n",
      "('2012-08', 'Massage Room 1', 153)\n",
      "('2012-08', 'Massage Room 2', 9)\n",
      "('2012-08', 'Pool Table', 272)\n",
      "('2012-08', 'Snooker Table', 154)\n",
      "('2012-08', 'Squash Court', 85)\n",
      "('2012-08', 'Table Tennis', 143)\n",
      "('2012-08', 'Tennis Court 1', 111)\n",
      "('2012-08', 'Tennis Court 2', 109)\n",
      "('2012-09', 'Badminton Court', 161)\n",
      "('2012-09', 'Massage Room 1', 191)\n",
      "('2012-09', 'Massage Room 2', 14)\n",
      "('2012-09', 'Pool Table', 408)\n",
      "('2012-09', 'Snooker Table', 199)\n",
      "('2012-09', 'Squash Court', 87)\n",
      "('2012-09', 'Table Tennis', 194)\n",
      "('2012-09', 'Tennis Court 1', 132)\n",
      "('2012-09', 'Tennis Court 2', 126)\n"
     ]
    }
   ],
   "source": [
    "import sqlite3\n",
    "\n",
    "# Connect to the database\n",
    "conn = sqlite3.connect('sqlite_db_pythonsqlite.db')\n",
    "\n",
    "# Create a cursor object\n",
    "cursor = conn.cursor()\n",
    "\n",
    "# Define and execute the SQL query\n",
    "query = \"\"\"\n",
    "    SELECT \n",
    "        strftime('%Y-%m', starttime) AS month,\n",
    "        f.name AS facility_name,\n",
    "        COUNT(b.bookid) AS usage_count\n",
    "    FROM Bookings b\n",
    "    JOIN Facilities f ON b.facid = f.facid\n",
    "    JOIN Members m ON b.memid = m.memid\n",
    "    WHERE m.memid <> 0\n",
    "    GROUP BY month, f.name\n",
    "    ORDER BY month, f.name;\n",
    "\"\"\"\n",
    "\n",
    "cursor.execute(query)\n",
    "\n",
    "# Fetch the results\n",
    "results = cursor.fetchall()\n",
    "\n",
    "# Print the results\n",
    "for row in results:\n",
    "    print(row)\n",
    "\n",
    "# Close the cursor and connection\n",
    "cursor.close()\n",
    "conn.close()\n"
   ]
  }
 ],
 "metadata": {
  "kernelspec": {
   "display_name": "Python 3 (ipykernel)",
   "language": "python",
   "name": "python3"
  },
  "language_info": {
   "codemirror_mode": {
    "name": "ipython",
    "version": 3
   },
   "file_extension": ".py",
   "mimetype": "text/x-python",
   "name": "python",
   "nbconvert_exporter": "python",
   "pygments_lexer": "ipython3",
   "version": "3.10.9"
  }
 },
 "nbformat": 4,
 "nbformat_minor": 5
}
