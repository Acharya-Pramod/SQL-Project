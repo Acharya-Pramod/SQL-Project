{
  "nbformat": 4,
  "nbformat_minor": 0,
  "metadata": {
    "colab": {
      "provenance": []
    },
    "kernelspec": {
      "name": "python3",
      "display_name": "Python 3"
    },
    "language_info": {
      "name": "python"
    }
  },
  "cells": [
    {
      "cell_type": "markdown",
      "source": [
        "* Welcome to the SQL mini project. You will carry out this project partly in\n",
        "the PHPMyAdmin interface, and partly in Jupyter via a Python connection.\n",
        "\n",
        "* PART 1: PHPMyAdmin\n",
        "You will complete questions 1-9 below in the PHPMyAdmin interface.\n",
        "Log in by pasting the following URL into your browser, and\n",
        "using the following Username and Password:\n",
        "\n",
        "\n",
        "-> The data you need is in the \"country_club\" database. This database\n",
        "contains 3 tables:\n",
        "\n",
        "    i) the \"Bookings\" table,\n",
        "    ii) the \"Facilities\" table, and\n",
        "    iii) the \"Members\" table.\n",
        "\n",
        "In this case study, you'll be asked a series of questions. You can solve them using the platform, but for the final deliverable,paste the code for each solution into this script, and upload it to your GitHub.\n",
        "\n",
        "\n",
        "\n",
        "\n",
        "# QUESTIONS\n",
        "\n",
        "* Q1: Some of the facilities charge a fee to members, but some do not. Write a SQL query to produce a list of the names of the facilities that do.\n",
        "\n",
        "\n",
        "* Q2: How many facilities do not charge a fee to members?\n",
        "\n",
        "\n",
        "* Q3: Write an SQL query to show a list of facilities that charge a fee to members, where the fee is less than 20% of the facility's monthly maintenance cost. Return the facid, facility name, member cost, and monthly maintenance of the\n",
        "facilities in question.\n",
        "\n",
        "* Q4: Write an SQL query to retrieve the details of facilities with ID 1 and 5. Try writing the query without using the OR operator.\n",
        "\n",
        "\n",
        "* Q5: Produce a list of facilities, with each labelled as\n",
        "'cheap' or 'expensive', depending on if their monthly maintenance cost is more than $100. Return the name and monthly maintenance of the facilities in question.\n",
        "\n",
        "\n",
        "* Q6: You'd like to get the first and last name of the last member(s) who signed up. Try not to use the LIMIT clause for your solution.\n",
        "\n",
        "\n",
        "* Q7: Produce a list of all members who have used a tennis court. Include in your output the name of the court, and the name of the member formatted as a single column. Ensure no duplicate data, and order by the member name.\n",
        "\n",
        "* Q8: Produce a list of bookings on the day of 2012-09-14 which will cost the member (or guest) more than $30. Remember that guests have different costs to members (the listed costs are per half-hour 'slot'), and the guest user's ID is always 0. Include in your output the name of the facility, the name of the member formatted as a single column, and the cost. Order by descending cost, and do not use any subqueries.\n",
        "\n",
        "\n",
        "* Q9: This time, produce the same result as in Q8, but using a subquery.\n",
        "\n",
        "\n",
        "### PART 2: SQLite\n",
        "\n",
        "* We now want you to jump over to a local instance of the database on your machine.\n",
        "\n",
        "Copy and paste the LocalSQLConnection.py script into an empty Jupyter notebook, and run it.\n",
        "\n",
        "Make sure that the SQLFiles folder containing thes files is in your working directory, and that you haven't changed the name of the .db file from 'sqlite\\db\\pythonsqlite'.\n",
        "\n",
        "You should see the output from the initial query 'SELECT * FROM FACILITIES'.\n",
        "\n",
        "Complete the remaining tasks in the Jupyter interface. If you struggle, feel free to go back\n",
        "to the PHPMyAdmin interface as and when you need to.\n",
        "\n",
        "You'll need to paste your query into value of the 'query1' variable and run the code block again to get an output.\n",
        "\n",
        "###QUESTIONS:\n",
        "\n",
        "* Q10: Produce a list of facilities with a total revenue less than 1000. The output of facility name and total revenue, sorted by revenue. Remember that there's a different cost for guests and members! */\n",
        "\n",
        "* Q11: Produce a report of members and who recommended them in alphabetic surname,firstname order\n",
        "\n",
        "\n",
        "* Q12: Find the facilities with their usage by member, but not guests\n",
        "\n",
        "\n",
        "* Q13: Find the facilities usage by month, but not guests;"
      ],
      "metadata": {
        "id": "5TPTC-IrVHaH"
      }
    },
    {
      "cell_type": "code",
      "source": [],
      "metadata": {
        "id": "mbn_TMQvVIM2"
      },
      "execution_count": null,
      "outputs": []
    },
    {
      "cell_type": "code",
      "source": [],
      "metadata": {
        "id": "ydbgToAhXWl-"
      },
      "execution_count": null,
      "outputs": []
    },
    {
      "cell_type": "markdown",
      "source": [
        "Q1: Some of the facilities charge a fee to members, but some do not. Write a SQL query to produce a list of the names of the facilities that do."
      ],
      "metadata": {
        "id": "D269QSwUXV4R"
      }
    },
    {
      "cell_type": "code",
      "source": [
        "SELECT *\n",
        "FROM  Facilities\n",
        "WHERE membercost > 0"
      ],
      "metadata": {
        "id": "eobNaUn5Xbiw"
      },
      "execution_count": null,
      "outputs": []
    },
    {
      "cell_type": "markdown",
      "source": [
        "facid\tname\tmembercost\tguestcost\tinitialoutlay\tmonthlymaintenance\texpense_label\n",
        "0\tTennis Court 1\t5.0\t25.0\t10000\t200\texpensive\n",
        "1\tTennis Court 2\t5.0\t25.0\t8000\t200\texpensive\n",
        "4\tMassage Room 1\t9.9\t80.0\t4000\t3000\texpensive\n",
        "5\tMassage Room 2\t9.9\t80.0\t4000\t3000\texpensive\n",
        "6\tSquash Court\t3.5\t17.5\t5000\t80\t    cheap\n"
      ],
      "metadata": {
        "id": "G9DXkXyyY_6V"
      }
    },
    {
      "cell_type": "markdown",
      "source": [
        "Q2: How many facilities do not charge a fee to members?"
      ],
      "metadata": {
        "id": "8EjFB0FQZb4k"
      }
    },
    {
      "cell_type": "code",
      "source": [
        "SELECT COUNT( * )\n",
        "FROM  Facilities\n",
        "WHERE membercost <=0"
      ],
      "metadata": {
        "id": "oZLq00pFZczU"
      },
      "execution_count": null,
      "outputs": []
    },
    {
      "cell_type": "markdown",
      "source": [
        "Ans: 4"
      ],
      "metadata": {
        "id": "DuV3Nu8ccFL5"
      }
    },
    {
      "cell_type": "markdown",
      "source": [
        "Q3: Write an SQL query to show a list of facilities that charge a fee to members, where the fee is less than 20% of the facility's monthly maintenance cost. Return the facid, facility name, member cost, and monthly maintenance of the facilities in question."
      ],
      "metadata": {
        "id": "0XRQpRRucJ8s"
      }
    },
    {
      "cell_type": "code",
      "source": [
        "SELECT facid, name AS facility_name, membercost, monthlymaintenance\n",
        "FROM Facilities\n",
        "WHERE membercost > 0 AND membercost < (0.2 * monthlymaintenance);\n"
      ],
      "metadata": {
        "id": "8zc8hSOPcGo5"
      },
      "execution_count": null,
      "outputs": []
    },
    {
      "cell_type": "markdown",
      "source": [
        "\n",
        "facid\tfacility_name\tmembercost\tmonthlymaintenance\n",
        "0\tTennis Court 1\t  5.0\t  200\n",
        "1\tTennis Court 2\t  5.0\t  200\n",
        "4\tMassage Room 1\t  9.9\t  3000\n",
        "5\tMassage Room 2\t  9.9\t  3000\n",
        "6\tSquash Court\t    3.5\t  80\n"
      ],
      "metadata": {
        "id": "Dd9bzEVHdutE"
      }
    },
    {
      "cell_type": "markdown",
      "source": [
        "Q4: Write an SQL query to retrieve the details of facilities with ID 1 and 5. Try writing the query without using the OR operator."
      ],
      "metadata": {
        "id": "fCEHZIsDd_xD"
      }
    },
    {
      "cell_type": "code",
      "source": [
        "SELECT *\n",
        "FROM Facilities\n",
        "WHERE facid IN (1, 5);\n"
      ],
      "metadata": {
        "id": "qmryWh1Fdzv8"
      },
      "execution_count": null,
      "outputs": []
    },
    {
      "cell_type": "markdown",
      "source": [
        "facid\tname\tmembercost\tguestcost\tinitialoutlay\tmonthlymaintenance\texpense_label\n",
        "1\tTennis Court 2\t5.0\t25.0\t8000\t200\texpensive\n",
        "5\tMassage Room 2\t9.9\t80.0\t4000\t3000\texpensive\n"
      ],
      "metadata": {
        "id": "Z0F1Zlhien8G"
      }
    },
    {
      "cell_type": "markdown",
      "source": [
        "Q5: Produce a list of facilities, with each labelled as 'cheap' or 'expensive', depending on if their monthly maintenance cost is more than $100. Return the name and monthly maintenance of the facilities in question."
      ],
      "metadata": {
        "id": "yQnlQIy-ewI6"
      }
    },
    {
      "cell_type": "code",
      "source": [
        "SELECT name AS facility_name,\n",
        "       monthlymaintenance,\n",
        "       CASE\n",
        "           WHEN monthlymaintenance > 100 THEN 'expensive'\n",
        "           ELSE 'cheap'\n",
        "       END AS cost_label\n",
        "FROM Facilities;\n"
      ],
      "metadata": {
        "id": "xGqDJZeYesGF"
      },
      "execution_count": null,
      "outputs": []
    },
    {
      "cell_type": "markdown",
      "source": [
        "![image.png](data:image/png;base64,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)"
      ],
      "metadata": {
        "id": "SfegNhCifm5Y"
      }
    },
    {
      "cell_type": "markdown",
      "source": [
        "Q6: You'd like to get the first and last name of the last member(s) who signed up. Try not to use the LIMIT clause for your solution."
      ],
      "metadata": {
        "id": "csbz-ZuGf6LZ"
      }
    },
    {
      "cell_type": "code",
      "source": [
        "SELECT firstname, surname\n",
        "FROM Members\n",
        "WHERE joindate = (SELECT MAX(joindate) FROM Members);\n"
      ],
      "metadata": {
        "id": "qJ_UAhzWfyho"
      },
      "execution_count": null,
      "outputs": []
    },
    {
      "cell_type": "markdown",
      "source": [
        "Darren\tSmith\n"
      ],
      "metadata": {
        "id": "7vpi3G5xgv8m"
      }
    },
    {
      "cell_type": "markdown",
      "source": [
        "Q7: Produce a list of all members who have used a tennis court. Include in your output the name of the court, and the name of the member formatted as a single column. Ensure no duplicate data, and order by the member name."
      ],
      "metadata": {
        "id": "p-eQde7MhwNR"
      }
    },
    {
      "cell_type": "code",
      "source": [
        "SELECT DISTINCT CONCAT(m.firstname, ' ', m.surname) AS member_name,\n",
        "                f.name AS court_name\n",
        "FROM Members m\n",
        "JOIN Bookings b ON m.memid = b.memid\n",
        "JOIN Facilities f ON b.facid = f.facid\n",
        "WHERE f.name LIKE 'Tennis Court%'\n",
        "ORDER BY member_name;\n",
        "\n",
        "\n"
      ],
      "metadata": {
        "id": "TokE5aiIg0sq"
      },
      "execution_count": null,
      "outputs": []
    },
    {
      "cell_type": "markdown",
      "source": [
        "We use CONCAT to combine the first name and surname of each member into a single column called member_name.\n",
        "\n",
        "We perform a series of JOIN operations to link the Members, Bookings, and Facilities tables based on their respective IDs (memid and facid).\n",
        "\n",
        "The WHERE clause filters for facilities with names that start with \"Tennis Court\" (assuming that all tennis courts have names beginning with \"Tennis Court\").\n",
        "\n",
        "Finally, we use ORDER BY to sort the results by member_name."
      ],
      "metadata": {
        "id": "RvpgfJxkkQFj"
      }
    },
    {
      "cell_type": "markdown",
      "source": [
        "\n",
        "member_name   \tcourt_name\n",
        "Anne Baker\tTennis Court 1\n",
        "Anne Baker\tTennis Court 2\n",
        "Burton Tracy\tTennis Court 1\n",
        "Burton Tracy\tTennis Court 2\n",
        "Charles Owen\tTennis Court 2\n",
        "Charles Owen\tTennis Court 1\n",
        "Darren Smith\tTennis Court 2\n",
        "David Farrell\tTennis Court 2\n",
        "David Farrell\tTennis Court 1\n",
        "David Jones\tTennis Court 1\n",
        "David Jones\tTennis Court 2\n",
        "David Pinker\tTennis Court 1\n",
        "Douglas Jones\tTennis Court 1\n",
        "Erica Crumpet\tTennis Court 1\n",
        "Florence Bader\tTennis Court 1\n",
        "Florence Bader\tTennis Court 2\n",
        "Gerald Butters\tTennis Court 1\n",
        "Gerald Butters\tTennis Court 2\n",
        "GUEST GUEST\tTennis Court 2\n",
        "GUEST GUEST\tTennis Court 1\n",
        "Henrietta Rumney\tTennis Court 2\n",
        "Jack Smith\tTennis Court 2\n",
        "Jack Smith\tTennis Court 1\n",
        "Janice Joplette\tTennis Court 2\n",
        "Janice Joplette\tTennis Court 1\n",
        "Jemima Farrell\tTennis Court 1\n",
        "Jemima Farrell\tTennis Court 2\n",
        "Joan Coplin\tTennis Court 1\n",
        "John Hunt\tTennis Court 2\n",
        "John Hunt\tTennis Court 1\n",
        "Matthew Genting\tTennis Court 1\n",
        "Millicent Purview\tTennis Court 2\n",
        "Nancy Dare\tTennis Court 2\n",
        "Nancy Dare\tTennis Court 1\n",
        "Ponder Stibbons\tTennis Court 1\n",
        "Ponder Stibbons\tTennis Court 2\n",
        "Ramnaresh Sarwin\tTennis Court 2\n",
        "Ramnaresh Sarwin\tTennis Court 1\n",
        "Tim Boothe\tTennis Court 2\n",
        "Tim Boothe\tTennis Court 1\n",
        "Tim Rownam\tTennis Court 1\n",
        "Tim Rownam\tTennis Court 2\n",
        "Timothy Baker\tTennis Court 1\n",
        "Timothy Baker\tTennis Court 2\n",
        "Tracy Smith\tTennis Court 1\n",
        "Tracy Smith\tTennis Court 2\n"
      ],
      "metadata": {
        "id": "sY31cZXcjxcg"
      }
    },
    {
      "cell_type": "markdown",
      "source": [
        "Q8: Produce a list of bookings on the day of 2012-09-14 which will cost the member (or guest) more than $30. Remember that guests have different costs to members (the listed costs are per half-hour 'slot'), and the guest user's ID is always 0. Include in your output the name of the facility, the name of the member formatted as a single column, and the cost. Order by descending cost, and do not use any subqueries."
      ],
      "metadata": {
        "id": "B0ZLaadEj23x"
      }
    },
    {
      "cell_type": "code",
      "source": [
        "SELECT CONCAT(m.firstname, ' ', m.surname) AS member_name,\n",
        "       f.name AS facility_name,\n",
        "       CASE\n",
        "           WHEN b.memid = 0 THEN f.guestcost * b.slots\n",
        "           ELSE f.membercost * b.slots\n",
        "       END AS cost\n",
        "FROM Bookings b\n",
        "JOIN Members m ON b.memid = m.memid\n",
        "JOIN Facilities f ON b.facid = f.facid\n",
        "WHERE DATE(b.starttime) = '2012-09-14'\n",
        "  AND (CASE\n",
        "           WHEN b.memid = 0 THEN f.guestcost * b.slots\n",
        "           ELSE f.membercost * b.slots\n",
        "       END) > 30\n",
        "ORDER BY cost DESC;\n"
      ],
      "metadata": {
        "id": "WszbXLy4jyMh"
      },
      "execution_count": null,
      "outputs": []
    },
    {
      "cell_type": "markdown",
      "source": [
        "\n",
        "member_name\tfacility_name\tcost\n",
        "GUEST GUEST\tMassage Room 2\t320.0\n",
        "GUEST GUEST\tMassage Room 1\t160.0\n",
        "GUEST GUEST\tMassage Room 1\t160.0\n",
        "GUEST GUEST\tMassage Room 1\t160.0\n",
        "GUEST GUEST\tTennis Court 2\t150.0\n",
        "GUEST GUEST\tTennis Court 2\t75.0\n",
        "GUEST GUEST\tTennis Court 1\t75.0\n",
        "GUEST GUEST\tTennis Court 1\t75.0\n",
        "GUEST GUEST\tSquash Court\t70.0\n",
        "Jemima Farrell\tMassage Room 1\t39.6\n",
        "GUEST GUEST\tSquash Court\t35.0\n",
        "GUEST GUEST\tSquash Court\t35.0\n"
      ],
      "metadata": {
        "id": "mXsrgR5tkzoU"
      }
    },
    {
      "cell_type": "markdown",
      "source": [
        "Q9: This time, produce the same result as in Q8, but using a subquery."
      ],
      "metadata": {
        "id": "cuysz1xok7l1"
      }
    },
    {
      "cell_type": "code",
      "source": [
        "SELECT CONCAT(Members.surname,' ',Members.firstname) AS mem_name,\n",
        "  Members.memid,\n",
        "  sub1.fac_name,\n",
        "  sub1.Costs\n",
        "  FROM Members\n",
        "\n",
        "  RIGHT JOIN(\n",
        "  \tSELECT\n",
        "  \tFacilities.name as fac_name,\n",
        "    Bookings.memid,\n",
        "  \tCASE WHEN Bookings.memid = 0 THEN Facilities.guestcost*Bookings.slots\n",
        "       ELSE Facilities.membercost*Bookings.slots END AS Costs\n",
        "    FROM Bookings\n",
        "    LEFT JOIN Facilities\n",
        "    ON Bookings.facid = Facilities.facid\n",
        "    WHERE DATE_FORMAT(Bookings.starttime, '%Y-%m-%d') = '2012-09-14'\n",
        "    HAVING Costs > 30\n",
        "  \t) sub1\n",
        "  ON sub1.memid = Members.memid\n",
        "  ORDER BY COSTS DESC\n"
      ],
      "metadata": {
        "id": "H-HTY7Zwk3t7"
      },
      "execution_count": null,
      "outputs": []
    },
    {
      "cell_type": "markdown",
      "source": [
        "\n",
        "mem_name\tmemid\tfac_name\tCosts\n",
        "GUEST GUEST\t0\tMassage Room 2\t320.0\n",
        "GUEST GUEST\t0\tMassage Room 1\t160.0\n",
        "GUEST GUEST\t0\tMassage Room 1\t160.0\n",
        "GUEST GUEST\t0\tMassage Room 1\t160.0\n",
        "GUEST GUEST\t0\tTennis Court 2\t150.0\n",
        "GUEST GUEST\t0\tTennis Court 1\t75.0\n",
        "GUEST GUEST\t0\tTennis Court 1\t75.0\n",
        "GUEST GUEST\t0\tTennis Court 2\t75.0\n",
        "GUEST GUEST\t0\tSquash Court\t70.0\n",
        "Farrell Jemima\t13\tMassage Room 1\t39.6\n",
        "GUEST GUEST\t0\tSquash Court\t35.0\n",
        "GUEST GUEST\t0\tSquash Court\t35.0\n"
      ],
      "metadata": {
        "id": "ygDE5-Z0l7-p"
      }
    },
    {
      "cell_type": "code",
      "source": [],
      "metadata": {
        "id": "ze4GyO6jn3BT"
      },
      "execution_count": 43,
      "outputs": []
    },
    {
      "cell_type": "code",
      "source": [
        "from google.colab import drive\n",
        "drive.mount('/content/drive/')"
      ],
      "metadata": {
        "colab": {
          "base_uri": "https://localhost:8080/"
        },
        "id": "DcCgjaMupkuQ",
        "outputId": "1107ebd9-f683-4efc-c57e-b07944524ced"
      },
      "execution_count": 6,
      "outputs": [
        {
          "output_type": "stream",
          "name": "stdout",
          "text": [
            "Mounted at /content/drive/\n"
          ]
        }
      ]
    },
    {
      "cell_type": "code",
      "source": [
        "import pandas as pd"
      ],
      "metadata": {
        "id": "9bmsWFbGnm37"
      },
      "execution_count": 29,
      "outputs": []
    },
    {
      "cell_type": "code",
      "source": [
        "!pip install db-sqlite3"
      ],
      "metadata": {
        "colab": {
          "base_uri": "https://localhost:8080/"
        },
        "id": "XFdDZSiNmDCv",
        "outputId": "d7e6ee6d-088a-4359-a8b3-73941947e278"
      },
      "execution_count": 13,
      "outputs": [
        {
          "output_type": "stream",
          "name": "stdout",
          "text": [
            "Collecting db-sqlite3\n",
            "  Downloading db-sqlite3-0.0.1.tar.gz (1.4 kB)\n",
            "  Preparing metadata (setup.py) ... \u001b[?25l\u001b[?25hdone\n",
            "Collecting db (from db-sqlite3)\n",
            "  Downloading db-0.1.1.tar.gz (3.4 kB)\n",
            "  Preparing metadata (setup.py) ... \u001b[?25l\u001b[?25hdone\n",
            "Collecting antiorm (from db->db-sqlite3)\n",
            "  Downloading antiorm-1.2.1.tar.gz (171 kB)\n",
            "\u001b[2K     \u001b[90m━━━━━━━━━━━━━━━━━━━━━━━━━━━━━━━━━━━━━━━━\u001b[0m \u001b[32m172.0/172.0 kB\u001b[0m \u001b[31m3.1 MB/s\u001b[0m eta \u001b[36m0:00:00\u001b[0m\n",
            "\u001b[?25h  Preparing metadata (setup.py) ... \u001b[?25l\u001b[?25hdone\n",
            "Building wheels for collected packages: db-sqlite3, db, antiorm\n",
            "  Building wheel for db-sqlite3 (setup.py) ... \u001b[?25l\u001b[?25hdone\n",
            "  Created wheel for db-sqlite3: filename=db_sqlite3-0.0.1-py3-none-any.whl size=1770 sha256=a472723f1d8bdc230056c232df5345ffdf3ad0a3343baed7c8f6ed2bfaea5bee\n",
            "  Stored in directory: /root/.cache/pip/wheels/a6/b7/83/e941e0a0e04f417982e718ae7295d1e82b5f2863a1c51edd71\n",
            "  Building wheel for db (setup.py) ... \u001b[?25l\u001b[?25hdone\n",
            "  Created wheel for db: filename=db-0.1.1-py3-none-any.whl size=3875 sha256=bf112b2ab7d09461f324ebdd7148d0769627e6ada12b053b7a5d386a845f0ed7\n",
            "  Stored in directory: /root/.cache/pip/wheels/7d/e4/df/bc55b93af204ab098d9effec76f6889ad12d7ad74e833c4910\n",
            "  Building wheel for antiorm (setup.py) ... \u001b[?25l\u001b[?25hdone\n",
            "  Created wheel for antiorm: filename=antiorm-1.2.1-py3-none-any.whl size=31663 sha256=4fb55e8915ca9c15090c47619417a34ea131473a1008fa7614452ccc45d5e1e5\n",
            "  Stored in directory: /root/.cache/pip/wheels/30/9f/7e/b7c95b391cfa77a9e722d359e9c669cf6c8d798d748aec5091\n",
            "Successfully built db-sqlite3 db antiorm\n",
            "Installing collected packages: antiorm, db, db-sqlite3\n",
            "Successfully installed antiorm-1.2.1 db-0.1.1 db-sqlite3-0.0.1\n"
          ]
        }
      ]
    },
    {
      "cell_type": "code",
      "source": [
        "import sqlite3\n",
        "\n",
        "# Connect to the database\n",
        "conn = sqlite3.connect('sqlite_db_pythonsqlite.db')\n",
        "\n",
        "# Create a cursor object to execute SQL queries\n",
        "cursor = conn.cursor()\n"
      ],
      "metadata": {
        "id": "dwkCz25fr9ds"
      },
      "execution_count": 41,
      "outputs": []
    }
  ]
}